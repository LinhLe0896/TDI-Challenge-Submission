{
 "cells": [
  {
   "cell_type": "code",
   "execution_count": 2,
   "metadata": {},
   "outputs": [],
   "source": [
    "import matplotlib.pyplot as plt\n",
    "import numpy as np"
   ]
  },
  {
   "cell_type": "code",
   "execution_count": 1,
   "metadata": {},
   "outputs": [],
   "source": [
    "def draw_coins_simulator(number_of_draws, iterations):\n",
    "    draw = np.random.uniform(0, 1, size=(iterations, number_of_draws))\n",
    "    draw[np.logical_and(draw>=0.0, draw<0.2)] = 0.01\n",
    "    draw[np.logical_and(draw>=0.2, draw<0.4)] = 0.05\n",
    "    draw[np.logical_and(draw>=0.4, draw<0.6)] = 0.10\n",
    "    draw[np.logical_and(draw>=0.6, draw<0.8)] = 0.25\n",
    "    draw[np.logical_and(draw>=0.8, draw<1.0)] = 0.50\n",
    "    return draw"
   ]
  },
  {
   "cell_type": "code",
   "execution_count": 3,
   "metadata": {},
   "outputs": [
    {
     "data": {
      "image/png": "[encoded data removed]",
      "text/plain": [
       "<Figure size 432x288 with 1 Axes>"
      ]
     },
     "metadata": {
      "needs_background": "light"
     },
     "output_type": "display_data"
    }
   ],
   "source": [
    "number_of_draws = 10\n",
    "iterations = int(5e7)\n",
    "draw = draw_coins_simulator(number_of_draws, iterations)\n",
    "\n",
    "weights = np.ones_like(draw.sum(axis=-1)) / iterations\n",
    "plt.hist(draw.sum(axis=-1), bins=25, weights=weights)\n",
    "plt.xlabel('Total Amount from 10 Coins')\n",
    "plt.ylabel('PDF')\n",
    "plt.show()"
   ]
  },
  {
   "cell_type": "code",
   "execution_count": 6,
   "metadata": {},
   "outputs": [
    {
     "data": {
      "image/png": "[encoded data removed]",
      "text/plain": [
       "<Figure size 432x288 with 1 Axes>"
      ]
     },
     "metadata": {
      "needs_background": "light"
     },
     "output_type": "display_data"
    }
   ],
   "source": [
    "threshold = 1\n",
    "results = (draw.sum(axis=-1) >= threshold).astype('int')\n",
    "\n",
    "x = [int(1e2), int(5e2), int(1e3), int(5e3), int(1e4), int(5e4), int(1e5), int(5e5),\n",
    "     int(1e6), int(5e6), int(1e7), int(5e7)]\n",
    "y = [results[:i].sum()/i for i in x]\n",
    "plt.plot(x, y, '-*')\n",
    "plt.xlabel('Number of Iterations')\n",
    "plt.xscale('log')\n",
    "plt.ylabel('Probability of Drawing More than ${:.2f}'.format(threshold))\n",
    "plt.show()"
   ]
  },
  {
   "cell_type": "code",
   "execution_count": 8,
   "metadata": {},
   "outputs": [
    {
     "name": "stdout",
     "output_type": "stream",
     "text": [
      "The probability that you will be able to buy an item for $1.00 is 0.93474\n"
     ]
    }
   ],
   "source": [
    "threshold = 1\n",
    "results = (draw.sum(axis=-1) >= threshold).astype('int')\n",
    "answer = results.sum()/iterations\n",
    "print('The probability that you will be able to buy an item for ${}.00 is {:.5f}'.format(threshold, answer))"
   ]
  },
  {
   "cell_type": "code",
   "execution_count": 9,
   "metadata": {},
   "outputs": [
    {
     "name": "stdout",
     "output_type": "stream",
     "text": [
      "The probability that you will be able to buy an item for $2.00 is 0.36705\n"
     ]
    }
   ],
   "source": [
    "threshold = 2\n",
    "results = (draw.sum(axis=-1) >= threshold).astype('int')\n",
    "answer = results.sum()/iterations\n",
    "print('The probability that you will be able to buy an item for ${}.00 is {:.5f}'.format(threshold, answer))"
   ]
  },
  {
   "cell_type": "code",
   "execution_count": 35,
   "metadata": {},
   "outputs": [],
   "source": [
    "number_of_draws = 20\n",
    "iterations = int(1e7)\n",
    "draw = draw_coins_simulator(number_of_draws, iterations)"
   ]
  },
  {
   "cell_type": "code",
   "execution_count": 36,
   "metadata": {},
   "outputs": [
    {
     "name": "stdout",
     "output_type": "stream",
     "text": [
      "The probability that you will be able to buy an item for $0.25 is 1.00000\n"
     ]
    }
   ],
   "source": [
    "item_cost = 0.25\n",
    "results = (draw.sum(axis=-1) >= item_cost).astype('int')\n",
    "answer = results.sum()/iterations\n",
    "print('The probability that you will be able to buy an item for ${:.2f} is {:.5f}'.format(item_cost, answer))\n",
    "\n",
    "# Making sure that (virtually) all case will guarantee to draw enough coins to buy the item."
   ]
  },
  {
   "cell_type": "code",
   "execution_count": 37,
   "metadata": {},
   "outputs": [
    {
     "name": "stdout",
     "output_type": "stream",
     "text": [
      "The expected amount you get back when the item costs $0.25 is: 0.16298\n",
      "The STV of the amount you get back when the item costs $0.25 is: 0.14181\n"
     ]
    }
   ],
   "source": [
    "get_back = np.cumsum(draw, axis=-1) - item_cost\n",
    "get_back = np.where(get_back >= 0, get_back, 999).min(axis=-1)\n",
    "get_back = get_back[get_back != 999]  # For the (almost impossible) occasion that we don't draw enough coins\n",
    "print('The expected amount you get back when the item costs ${:.2f} is: {:.5f}'.format(item_cost, get_back.mean()))\n",
    "print('The STV of the amount you get back when the item costs ${:.2f} is: {:.5f}'.format(item_cost, get_back.std()))"
   ]
  },
  {
   "cell_type": "code",
   "execution_count": 38,
   "metadata": {},
   "outputs": [
    {
     "name": "stdout",
     "output_type": "stream",
     "text": [
      "The probability that you will be able to buy an item for $1.00 is 0.99998\n"
     ]
    }
   ],
   "source": [
    "item_cost = 1.00\n",
    "results = (draw.sum(axis=-1) >= item_cost).astype('int')\n",
    "answer = results.sum()/iterations\n",
    "print('The probability that you will be able to buy an item for ${:.2f} is {:.5f}'.format(item_cost, answer))\n",
    "\n",
    "# Making sure that (virtually) all case will guarantee to draw enough coins to buy the item."
   ]
  },
  {
   "cell_type": "code",
   "execution_count": 40,
   "metadata": {},
   "outputs": [
    {
     "name": "stdout",
     "output_type": "stream",
     "text": [
      "The expected amount you get back when the item costs $1.00 is: 0.15722\n",
      "The STV of the amount you get back when the item costs $1.00 is: 0.13981\n"
     ]
    }
   ],
   "source": [
    "get_back = np.cumsum(draw, axis=-1) - item_cost\n",
    "get_back = np.where(get_back >= 0, get_back, 999).min(axis=-1)\n",
    "get_back = get_back[get_back != 999]  # For the (almost impossible) occasion that we don't draw enough coins\n",
    "print('The expected amount you get back when the item costs ${:.2f} is: {:.5f}'.format(item_cost, get_back.mean()))\n",
    "print('The STV of the amount you get back when the item costs ${:.2f} is: {:.5f}'.format(item_cost, get_back.std()))"
   ]
  },
  {
   "cell_type": "code",
   "execution_count": 44,
   "metadata": {},
   "outputs": [],
   "source": [
    "number_of_draws = 100\n",
    "iterations = int(1e6)\n",
    "draw = draw_coins_simulator(number_of_draws, iterations)"
   ]
  },
  {
   "cell_type": "code",
   "execution_count": 45,
   "metadata": {},
   "outputs": [
    {
     "name": "stdout",
     "output_type": "stream",
     "text": [
      "The probability that you will be able to buy an item for $10.00 is 1.00000\n"
     ]
    }
   ],
   "source": [
    "item_cost = 10.0\n",
    "results = (draw.sum(axis=-1) >= item_cost).astype('int')\n",
    "answer = results.sum()/iterations\n",
    "print('The probability that you will be able to buy an item for ${:.2f} is {:.5f}'.format(item_cost, answer))\n",
    "\n",
    "# Making sure that (virtually) all case will guarantee to draw enough coins to buy the item."
   ]
  },
  {
   "cell_type": "code",
   "execution_count": 46,
   "metadata": {},
   "outputs": [
    {
     "name": "stdout",
     "output_type": "stream",
     "text": [
      "The expected amount you get back when the item costs $10.00 is: 0.18274\n",
      "The STV of the amount you get back when the item costs $10.00 is: 0.14157\n"
     ]
    }
   ],
   "source": [
    "get_back = np.cumsum(draw, axis=-1) - item_cost\n",
    "get_back = np.where(get_back >= 0, get_back, 999).min(axis=-1)\n",
    "get_back = get_back[get_back != 999]  # For the (almost impossible) occasion that we don't draw enough coins\n",
    "print('The expected amount you get back when the item costs ${:.2f} is: {:.5f}'.format(item_cost, get_back.mean()))\n",
    "print('The STV of the amount you get back when the item costs ${:.2f} is: {:.5f}'.format(item_cost, get_back.std()))"
   ]
  }
 ],
 "metadata": {
  "kernelspec": {
   "display_name": "Python 3",
   "language": "python",
   "name": "python3"
  },
  "language_info": {
   "codemirror_mode": {
    "name": "ipython",
    "version": 3
   },
   "file_extension": ".py",
   "mimetype": "text/x-python",
   "name": "python",
   "nbconvert_exporter": "python",
   "pygments_lexer": "ipython3",
   "version": "3.8.3"
  }
 },
 "nbformat": 4,
 "nbformat_minor": 4
}
